{
 "cells": [
  {
   "cell_type": "markdown",
   "metadata": {},
   "source": [
    "# Initial set up\n",
    "\n",
    "Run this notebook before running any other code in co-lab"
   ]
  },
  {
   "cell_type": "markdown",
   "metadata": {},
   "source": [
    "## First install conda\n",
    "\n",
    "This will allow us to all start with the same \"environment\" or packages."
   ]
  },
  {
   "cell_type": "code",
   "execution_count": null,
   "metadata": {},
   "outputs": [],
   "source": [
    "!pip install -q condacolab\n",
    "import condacolab\n",
    "condacolab.install()"
   ]
  },
  {
   "cell_type": "markdown",
   "metadata": {},
   "source": [
    "## Create environment\n",
    "\n",
    "I included a .yml file in the ~/environments/ folder, this file contains the instructions that conda will use to build the correct environment.  \n",
    "\n",
    "Note: I only have \"unpinnned\" packages in the yml file. If you return to this years from now, it is likely the code won't run because some packages have changed over time. Ideally, to avoid this, you should \"pin\" each package to the current version that is working right now. Then in the future, when you build this environment it will build the same environment that we did today."
   ]
  },
  {
   "cell_type": "code",
   "execution_count": null,
   "metadata": {},
   "outputs": [],
   "source": [
    "!conda env create --name mdi_workshop_env --file environments/environment_unpinned.yml"
   ]
  }
 ],
 "metadata": {
  "language_info": {
   "name": "python"
  },
  "orig_nbformat": 4
 },
 "nbformat": 4,
 "nbformat_minor": 2
}
